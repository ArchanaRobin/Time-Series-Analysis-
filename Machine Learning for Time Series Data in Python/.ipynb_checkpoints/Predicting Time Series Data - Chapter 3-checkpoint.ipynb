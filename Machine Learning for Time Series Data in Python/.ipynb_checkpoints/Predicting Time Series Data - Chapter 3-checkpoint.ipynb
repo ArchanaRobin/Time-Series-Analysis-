{
 "cells": [
  {
   "cell_type": "markdown",
   "id": "32d33424",
   "metadata": {},
   "source": [
    "# Machine Learning for Time Series Data in Python\n",
    "This chapter is an introduction to the basics of machine learning, time series data, and the intersection between the two. This is the Summary of lecture \"Machine Learning for Time Series Data in Python\", via datacamp.\n",
    "\n",
    " - ### Predicting Time Series Data - Chapter 3\n",
    "\n"
   ]
  },
  {
   "cell_type": "code",
   "execution_count": null,
   "id": "5de98dea",
   "metadata": {},
   "outputs": [],
   "source": [
    "import pandas as pd\n",
    "import numpy as np\n",
    "import matplotlib.pyplot as plt\n",
    "import seaborn as sns\n",
    "import warnings\n",
    "warnings.filterwarnings(\"ignore\")\n",
    "plt.rcParams['figure.figsize'] = (10, 5)\n",
    "plt.style.use('fivethirtyeight')\n",
    "from sklearn.svm import LinearSVC\n",
    "from sklearn import linear_model\n",
    "import librosa as lr\n",
    "from glob import glob\n",
    "from sklearn.model_selection import cross_val_score\n",
    "from librosa.core import stft, amplitude_to_db\n",
    "from librosa.core import amplitude_to_db\n",
    "from librosa.display import specshow\n"
   ]
  },
  {
   "cell_type": "code",
   "execution_count": null,
   "id": "f83b6183",
   "metadata": {},
   "outputs": [],
   "source": []
  },
  {
   "cell_type": "code",
   "execution_count": null,
   "id": "90796ce2",
   "metadata": {},
   "outputs": [],
   "source": []
  },
  {
   "cell_type": "code",
   "execution_count": null,
   "id": "5f929f86",
   "metadata": {},
   "outputs": [],
   "source": []
  },
  {
   "cell_type": "code",
   "execution_count": null,
   "id": "24a732f4",
   "metadata": {},
   "outputs": [],
   "source": []
  },
  {
   "cell_type": "code",
   "execution_count": null,
   "id": "605992ad",
   "metadata": {},
   "outputs": [],
   "source": []
  },
  {
   "cell_type": "code",
   "execution_count": null,
   "id": "20b81333",
   "metadata": {},
   "outputs": [],
   "source": []
  },
  {
   "cell_type": "code",
   "execution_count": null,
   "id": "a6d4e52b",
   "metadata": {},
   "outputs": [],
   "source": []
  }
 ],
 "metadata": {
  "kernelspec": {
   "display_name": "Python 3 (ipykernel)",
   "language": "python",
   "name": "python3"
  },
  "language_info": {
   "codemirror_mode": {
    "name": "ipython",
    "version": 3
   },
   "file_extension": ".py",
   "mimetype": "text/x-python",
   "name": "python",
   "nbconvert_exporter": "python",
   "pygments_lexer": "ipython3",
   "version": "3.8.8"
  }
 },
 "nbformat": 4,
 "nbformat_minor": 5
}
