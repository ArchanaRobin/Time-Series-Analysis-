{
 "cells": [
  {
   "cell_type": "markdown",
   "id": "09ebfa76",
   "metadata": {},
   "source": [
    "### Putting It All Together Chapter 5. Time Series Analysis"
   ]
  },
  {
   "cell_type": "markdown",
   "id": "39d963d5",
   "metadata": {},
   "source": [
    "#### 1 :Cointegration Models\n",
    "\n",
    "The idea behind cointegration is  that even if the prices of two different assets both follow random walks, it is still possible that a linear combination of them is not a random walk. If that's true, then even though P and Q are not forecastable because they're random walks, the linear combination is forecastable, and we say that P and Q are cointegrated.\n",
    "\n",
    "\n",
    "- What is Cointegration?\n",
    "    - Two series, $P_t$ and $Q_t$ can be random walks\n",
    "    - But the linear combination $P_t - c Q_t$ may not be a random walk!\n",
    "    - If that's true\n",
    "        - $P_t - c Q_t$ is forecastable\n",
    "        - $P_t$ and $Q_t$ are said to be cointegrated\n",
    "- Analogy: Dog on a Leash\n",
    "    - $P_t =$ Owner\n",
    "    - $Q_t =$ Dog\n",
    "    - Both series look like a random walk\n",
    "    - Difference of distance between them, looks mean reverting\n",
    "        - If dog falls too far behind, it gets pulled forward\n",
    "        - If dog gets too far ahead, it gets pulled back\n",
    "- What types of series are cointegrated?\n",
    "    - Economic substitutes\n",
    "        - Heating Oil and Natural Gas\n",
    "        - Platinum and Palladium\n",
    "        - Corn and Wheat\n",
    "        - Corn and Sugar\n",
    "        - $\\dots$\n",
    "        - Bitcoin and Ethereum\n",
    "- Two steps to test for Cointegration\n",
    "    - Regress $P_t$ on$Q_t$ and get slope $c$\n",
    "    - Run Augmented Dickey-Fuller test on $P_t - c Q_t$ to test for random walk\n",
    "    - Alternatively, can use ```coint``` function in statsmodels that combines both steps"
   ]
  },
  {
   "cell_type": "code",
   "execution_count": 41,
   "id": "0b8f32e4",
   "metadata": {},
   "outputs": [],
   "source": [
    "import pandas as pd\n",
    "import numpy as np\n",
    "import matplotlib.pyplot as plt\n",
    "import seaborn as sns\n",
    "import warnings\n",
    "warnings.filterwarnings(\"ignore\")\n",
    "plt.rcParams['figure.figsize'] = (10, 5)\n",
    "import statsmodels.api as sm\n",
    "from statsmodels.tsa.stattools import acf\n",
    "from statsmodels.graphics.tsaplots import plot_acf\n",
    "from statsmodels.graphics.tsaplots import plot_pacf\n",
    "from math import sqrt\n",
    "from statsmodels.tsa.arima_process import ArmaProcess\n",
    "from statsmodels.tsa.arima.model import ARIMA\n",
    "import datetime"
   ]
  },
  {
   "cell_type": "code",
   "execution_count": 3,
   "id": "35ba0f39",
   "metadata": {},
   "outputs": [],
   "source": [
    "HO = pd.read_csv('./dataset/CME_HO1.csv', index_col=0)\n",
    "NG = pd.read_csv('./dataset/CME_NG1.csv', index_col=0)"
   ]
  },
  {
   "cell_type": "code",
   "execution_count": 4,
   "id": "bfaee07c",
   "metadata": {},
   "outputs": [],
   "source": [
    "HO.index = pd.to_datetime(HO.index, format='%m/%d/%Y')\n",
    "NG.index = pd.to_datetime(NG.index, format='%m/%d/%Y')"
   ]
  },
  {
   "cell_type": "code",
   "execution_count": 5,
   "id": "93d1ec9b",
   "metadata": {},
   "outputs": [],
   "source": [
    "HO = HO.sort_index()\n",
    "NG = NG.sort_index()"
   ]
  },
  {
   "cell_type": "code",
   "execution_count": 6,
   "id": "234515ad",
   "metadata": {},
   "outputs": [
    {
     "data": {
      "text/html": [
       "<div>\n",
       "<style scoped>\n",
       "    .dataframe tbody tr th:only-of-type {\n",
       "        vertical-align: middle;\n",
       "    }\n",
       "\n",
       "    .dataframe tbody tr th {\n",
       "        vertical-align: top;\n",
       "    }\n",
       "\n",
       "    .dataframe thead th {\n",
       "        text-align: right;\n",
       "    }\n",
       "</style>\n",
       "<table border=\"1\" class=\"dataframe\">\n",
       "  <thead>\n",
       "    <tr style=\"text-align: right;\">\n",
       "      <th></th>\n",
       "      <th>Close</th>\n",
       "    </tr>\n",
       "    <tr>\n",
       "      <th>Date</th>\n",
       "      <th></th>\n",
       "    </tr>\n",
       "  </thead>\n",
       "  <tbody>\n",
       "    <tr>\n",
       "      <th>1991-01-02</th>\n",
       "      <td>0.7330</td>\n",
       "    </tr>\n",
       "    <tr>\n",
       "      <th>1991-01-03</th>\n",
       "      <td>0.7024</td>\n",
       "    </tr>\n",
       "    <tr>\n",
       "      <th>1991-01-04</th>\n",
       "      <td>0.6830</td>\n",
       "    </tr>\n",
       "    <tr>\n",
       "      <th>1991-01-07</th>\n",
       "      <td>0.7617</td>\n",
       "    </tr>\n",
       "    <tr>\n",
       "      <th>1991-01-08</th>\n",
       "      <td>0.7430</td>\n",
       "    </tr>\n",
       "  </tbody>\n",
       "</table>\n",
       "</div>"
      ],
      "text/plain": [
       "             Close\n",
       "Date              \n",
       "1991-01-02  0.7330\n",
       "1991-01-03  0.7024\n",
       "1991-01-04  0.6830\n",
       "1991-01-07  0.7617\n",
       "1991-01-08  0.7430"
      ]
     },
     "execution_count": 6,
     "metadata": {},
     "output_type": "execute_result"
    }
   ],
   "source": [
    "HO.head()"
   ]
  },
  {
   "cell_type": "markdown",
   "id": "8ad4127a",
   "metadata": {},
   "source": [
    "#### 1 A: A Dog on a Leash? (Part 1)\n",
    "The Heating Oil and Natural Gas prices are pre-loaded in DataFrames HO and NG. First, plot both price series, which look like random walks. Then plot the difference between the two series, which should look more like a mean reverting series (to put the two series in the same units, we multiply the heating oil prices, in $/gallon, by 7.25, which converts it to $/millionBTU, which is the same units as Natural Gas).\n",
    "\n",
    "The data for continuous futures (each contract has to be spliced together in a continuous series as contracts expire) was obtained from Quandl."
   ]
  },
  {
   "cell_type": "code",
   "execution_count": 8,
   "id": "84f7ca99",
   "metadata": {},
   "outputs": [
    {
     "data": {
      "image/png": "[encoded data removed]",
      "text/plain": [
       "<Figure size 720x360 with 2 Axes>"
      ]
     },
     "metadata": {
      "needs_background": "light"
     },
     "output_type": "display_data"
    }
   ],
   "source": [
    "# Plot Heating Oil, HO, and Natural Gas, NG, on the same subplot\n",
    "plt.subplot(2, 1, 1)\n",
    "# Make sure you multiply the HO price by 7.25 to match the units of NG\n",
    "plt.plot(7.25 * HO, label=\"Heating Oil\");\n",
    "plt.plot(7.25 * NG, label=\"Natural Gas\")\n",
    "plt.legend(loc=\"best\", fontsize=\"small\");\n",
    "\n",
    "# Plot the spread on a second subplot\n",
    "plt.subplot(2, 1, 2)\n",
    "# The spread will be 7.25*HO - NG\n",
    "plt.plot(7.25 * HO - NG, label=\"Spread\")\n",
    "plt.legend(loc=\"best\", fontsize=\"small\")\n",
    "plt.axhline(y=0, linestyle=\"--\", color=\"k\")\n",
    "plt.show()\n"
   ]
  },
  {
   "cell_type": "markdown",
   "id": "9ea5e97e",
   "metadata": {},
   "source": [
    " note: Notice from the plot that when Heating Oil briefly dipped below Natural Gas, it quickly reverted back up."
   ]
  },
  {
   "cell_type": "markdown",
   "id": "b9e0be15",
   "metadata": {},
   "source": [
    "#### 1: B -  A Dog on a Leash? (Part 2)\n",
    "To verify that Heating Oil and Natural Gas prices are cointegrated, First apply the Dickey-Fuller test separately to show they are random walks. Then apply the test to the difference, which should strongly reject the random walk hypothesis. The Heating Oil and Natural Gas prices are pre-loaded in DataFrames HO and NG."
   ]
  },
  {
   "cell_type": "code",
   "execution_count": 11,
   "id": "9ba837f6",
   "metadata": {},
   "outputs": [
    {
     "name": "stdout",
     "output_type": "stream",
     "text": [
      "The p-value of the test on prices HO  is: 0.9567108785017863\n",
      "test statistic : -0.021577136887493267\n",
      "The p-value of the test on prices NG is: 0.9008747444676728\n",
      "test statistic : -0.4529547967000908\n",
      "The p-value for the ADF test on the spread is  7.019439302142287e-05\n"
     ]
    }
   ],
   "source": [
    "# Import the adfuller module from statsmodels\n",
    "from statsmodels.tsa.stattools import adfuller\n",
    "\n",
    "# Perform the adfuller test on HO and on NG separately, and save the results (results are a list)\n",
    "# The argument for adfuller must be a series, so you need to include the column 'Close'\n",
    "result_HO = adfuller(HO[\"Close\"])\n",
    "\n",
    "# Print just the p-value (item [1] in the list)\n",
    "print('The p-value of the test on prices HO  is: ' + str(result_HO[1]))\n",
    "print(\"test statistic : \"  + str(result_HO[0]))\n",
    "\n",
    "\n",
    "result_NG = adfuller(NG[\"Close\"])\n",
    "print('The p-value of the test on prices NG is: ' + str(result_NG[1]))\n",
    "print(\"test statistic : \"  + str(result_NG[0]))\n",
    "\n",
    "\n",
    "# Do the same thing for the spread, again converting the units of HO, and using the column 'Close' of each DataFrame\n",
    "\n",
    "result_spread = adfuller(7.25 * HO[\"Close\"] - NG[\"Close\"])\n",
    "print(\"The p-value for the ADF test on the spread is \", result_spread[1])"
   ]
  },
  {
   "cell_type": "markdown",
   "id": "3c441609",
   "metadata": {},
   "source": [
    "note:  As we expected, we cannot reject the hypothesis that the individual futures are random walks, but we can reject that the spread is a random walk."
   ]
  },
  {
   "cell_type": "markdown",
   "id": "8a5861a5",
   "metadata": {},
   "source": [
    "####  1 C: Are Bitcoin and Ethereum Cointegrated?\n",
    "Cointegration involves two steps: regressing one time series on the other to get the cointegration vector, and then perform an ADF test on the residuals of the regression. In the last example, there was no need to perform the first step since we implicitly assumed the cointegration vector was (1,−1). In other words, we took the difference between the two series (after doing a units conversion). Here, you will do both steps.\n",
    "\n",
    "You will regress the value of one cryptocurrency, bitcoin (BTC), on another cryptocurrency, ethereum (ETH). If we call "
   ]
  },
  {
   "cell_type": "code",
   "execution_count": 12,
   "id": "da50800e",
   "metadata": {},
   "outputs": [],
   "source": [
    "BTC = pd.read_csv('./dataset/BTC.csv', index_col=0)\n",
    "ETH = pd.read_csv('./dataset/ETH.csv', index_col=0)"
   ]
  },
  {
   "cell_type": "code",
   "execution_count": 14,
   "id": "d9472b87",
   "metadata": {},
   "outputs": [
    {
     "data": {
      "text/html": [
       "<div>\n",
       "<style scoped>\n",
       "    .dataframe tbody tr th:only-of-type {\n",
       "        vertical-align: middle;\n",
       "    }\n",
       "\n",
       "    .dataframe tbody tr th {\n",
       "        vertical-align: top;\n",
       "    }\n",
       "\n",
       "    .dataframe thead th {\n",
       "        text-align: right;\n",
       "    }\n",
       "</style>\n",
       "<table border=\"1\" class=\"dataframe\">\n",
       "  <thead>\n",
       "    <tr style=\"text-align: right;\">\n",
       "      <th></th>\n",
       "      <th>Price</th>\n",
       "    </tr>\n",
       "    <tr>\n",
       "      <th>Date</th>\n",
       "      <th></th>\n",
       "    </tr>\n",
       "  </thead>\n",
       "  <tbody>\n",
       "    <tr>\n",
       "      <th>2015-09-29</th>\n",
       "      <td>236.9</td>\n",
       "    </tr>\n",
       "    <tr>\n",
       "      <th>2015-09-30</th>\n",
       "      <td>237.1</td>\n",
       "    </tr>\n",
       "    <tr>\n",
       "      <th>2015-10-01</th>\n",
       "      <td>238.3</td>\n",
       "    </tr>\n",
       "    <tr>\n",
       "      <th>2015-10-02</th>\n",
       "      <td>238.3</td>\n",
       "    </tr>\n",
       "    <tr>\n",
       "      <th>2015-10-03</th>\n",
       "      <td>239.9</td>\n",
       "    </tr>\n",
       "  </tbody>\n",
       "</table>\n",
       "</div>"
      ],
      "text/plain": [
       "            Price\n",
       "Date             \n",
       "2015-09-29  236.9\n",
       "2015-09-30  237.1\n",
       "2015-10-01  238.3\n",
       "2015-10-02  238.3\n",
       "2015-10-03  239.9"
      ]
     },
     "execution_count": 14,
     "metadata": {},
     "output_type": "execute_result"
    }
   ],
   "source": [
    "BTC.head()"
   ]
  },
  {
   "cell_type": "code",
   "execution_count": null,
   "id": "b810ecd9",
   "metadata": {},
   "outputs": [],
   "source": []
  },
  {
   "cell_type": "code",
   "execution_count": 13,
   "id": "1e686771",
   "metadata": {},
   "outputs": [],
   "source": [
    "BTC.index = pd.to_datetime(BTC.index, format='%Y-%m-%d')\n",
    "ETH.index = pd.to_datetime(ETH.index, format='%Y-%m-%d')"
   ]
  },
  {
   "cell_type": "code",
   "execution_count": 20,
   "id": "b585b3c0",
   "metadata": {},
   "outputs": [
    {
     "name": "stdout",
     "output_type": "stream",
     "text": [
      "The p-value for the ADF test is  0.023369002323472794\n"
     ]
    }
   ],
   "source": [
    "# Import the statsmodels module for regression and the adfuller function\n",
    "from statsmodels.tsa.stattools import adfuller\n",
    "import statsmodels.api as sm\n",
    "\n",
    "# Add a constant to the ETH DataFrame using sm.add_constant()\n",
    "ETH = sm.add_constant(ETH)\n",
    "\n",
    "# Regress BTC on ETH using sm.OLS(y,x).fit(), where y is the dependent variable and x is the independent variable, and save the results in result.\n",
    "\n",
    "result = sm.OLS(BTC, ETH).fit()\n",
    "\n",
    "# The intercept is in result.params[0] and the slope in result.params[1]\n",
    "# Run ADF test on BTC  ETH\n",
    "b = result.params[1]\n",
    "adf_stats = adfuller(BTC['Price'] - b * ETH['Price'])\n",
    "print(\"The p-value for the ADF test is \", adf_stats[1])"
   ]
  },
  {
   "cell_type": "markdown",
   "id": "9be34baa",
   "metadata": {},
   "source": [
    "note :The data suggests that Bitcoin and Ethereum are cointegrated."
   ]
  },
  {
   "cell_type": "markdown",
   "id": "136459b0",
   "metadata": {},
   "source": [
    "### Case Study: Climate Change \n",
    " \n",
    "- #### Analyzing Temperature Data\n",
    "Dickey-Fuller test to see whether the data is a Random Walk. Then, you'll take first differences of the data to transform it into a stationary series, and compute the Autocorrelation Function and the Partial Autocorrelation Function of the data. Using that as a guide, you'll fit a few AR, MA, and ARMA models to the data. Then you'll use the Information Criterion to choose the best model among the ones you looked at. Finally, with the best model, you'll forecast temperatures over the next 30 years.\n",
    "\n",
    "The data was downloaded from the NOAA website. \n",
    "\n",
    " #### 2 A - : Is Temperature a Random Walk (with Drift)?\n",
    "An ARMA model is a simplistic approach to forecasting climate changes, but it illustrates many of the topics covered in this class.\n",
    "\n",
    "The DataFrame ```temp_NY``` contains the average annual temperature in Central Park, NY from 1870-2016 (the data was downloaded from the NOAA [here](https://www.ncdc.noaa.gov/cdo-web/search)). Plot the data and test whether it follows a random walk (with drift)."
   ]
  },
  {
   "cell_type": "code",
   "execution_count": 45,
   "id": "c9c313cd",
   "metadata": {},
   "outputs": [
    {
     "data": {
      "text/html": [
       "<div>\n",
       "<style scoped>\n",
       "    .dataframe tbody tr th:only-of-type {\n",
       "        vertical-align: middle;\n",
       "    }\n",
       "\n",
       "    .dataframe tbody tr th {\n",
       "        vertical-align: top;\n",
       "    }\n",
       "\n",
       "    .dataframe thead th {\n",
       "        text-align: right;\n",
       "    }\n",
       "</style>\n",
       "<table border=\"1\" class=\"dataframe\">\n",
       "  <thead>\n",
       "    <tr style=\"text-align: right;\">\n",
       "      <th></th>\n",
       "      <th>TAVG</th>\n",
       "    </tr>\n",
       "    <tr>\n",
       "      <th>DATE</th>\n",
       "      <th></th>\n",
       "    </tr>\n",
       "  </thead>\n",
       "  <tbody>\n",
       "    <tr>\n",
       "      <th>1870-01-01</th>\n",
       "      <td>53.8</td>\n",
       "    </tr>\n",
       "    <tr>\n",
       "      <th>1871-01-01</th>\n",
       "      <td>51.3</td>\n",
       "    </tr>\n",
       "    <tr>\n",
       "      <th>1872-01-01</th>\n",
       "      <td>51.3</td>\n",
       "    </tr>\n",
       "    <tr>\n",
       "      <th>1873-01-01</th>\n",
       "      <td>50.9</td>\n",
       "    </tr>\n",
       "    <tr>\n",
       "      <th>1874-01-01</th>\n",
       "      <td>51.3</td>\n",
       "    </tr>\n",
       "  </tbody>\n",
       "</table>\n",
       "</div>"
      ],
      "text/plain": [
       "            TAVG\n",
       "DATE            \n",
       "1870-01-01  53.8\n",
       "1871-01-01  51.3\n",
       "1872-01-01  51.3\n",
       "1873-01-01  50.9\n",
       "1874-01-01  51.3"
      ]
     },
     "execution_count": 45,
     "metadata": {},
     "output_type": "execute_result"
    }
   ],
   "source": [
    "temp_NY = pd.read_csv(\"./dataset/NOAA_TAVG.csv\", index_col=0)\n",
    "temp_NY.index = pd.to_datetime(temp_NY.index, format='%Y')\n",
    "temp_NY.head()"
   ]
  },
  {
   "cell_type": "code",
   "execution_count": 46,
   "id": "283d1e77",
   "metadata": {},
   "outputs": [
    {
     "data": {
      "image/png": "[encoded data removed]",
      "text/plain": [
       "<Figure size 720x360 with 1 Axes>"
      ]
     },
     "metadata": {
      "needs_background": "light"
     },
     "output_type": "display_data"
    },
    {
     "name": "stdout",
     "output_type": "stream",
     "text": [
      "The p-value for the ADF test is  0.583293898787111\n"
     ]
    }
   ],
   "source": [
    "# Convert the index of years into a datetime object using pd.to_datetime(), and since the data is annual, pass the argument format='%Y'.\n",
    "# Plot the data using .plot()\n",
    "temp_NY.plot()\n",
    "plt.show()\n",
    "\n",
    "# Compute the p-value the Augmented Dickey Fuller test using the adfuller function.\n",
    "result = adfuller(temp_NY[\"TAVG\"])\n",
    "# Save the results of the ADF test in result, and print out the p-value in result[1].\n",
    "print(\"The p-value for the ADF test is \", result[1])"
   ]
  },
  {
   "cell_type": "markdown",
   "id": "5bd1b744",
   "metadata": {},
   "source": [
    "note : We cannot reject the null hypothesis as the p-value is greater than 0.5. The data seems to follow a random walk with drift."
   ]
  },
  {
   "cell_type": "markdown",
   "id": "ad297814",
   "metadata": {},
   "source": [
    "#### 2: B -  Getting \"Warmed\" Up: Look at Autocorrelations\n",
    "Since the temperature series, temp_NY, is a random walk with drift, take first differences to make it stationary. Then compute the sample ACF and PACF. This will provide some guidance on the order of the model\n"
   ]
  },
  {
   "cell_type": "code",
   "execution_count": 48,
   "id": "cd5f4aa8",
   "metadata": {},
   "outputs": [
    {
     "data": {
      "image/png": "[encoded data removed]",
      "text/plain": [
       "<Figure size 720x360 with 2 Axes>"
      ]
     },
     "metadata": {
      "needs_background": "light"
     },
     "output_type": "display_data"
    }
   ],
   "source": [
    "from statsmodels.graphics.tsaplots import plot_acf, plot_pacf\n",
    "\n",
    "# Take first difference of the temperature Series\n",
    "chg_temp = temp_NY.diff()\n",
    "chg_temp = chg_temp.dropna()\n",
    "\n",
    "# Plot the ACF and PACF on the same page\n",
    "fig, axes = plt.subplots(2, 1)\n",
    "\n",
    "# Plot the ACF\n",
    "plot_acf(chg_temp, lags=20, ax=axes[0]);\n",
    "\n",
    "# Plot the PACF\n",
    "plot_pacf(chg_temp, lags=20, ax=axes[1]);\n",
    "\n",
    "plt.tight_layout()"
   ]
  },
  {
   "cell_type": "markdown",
   "id": "6d1baf35",
   "metadata": {},
   "source": [
    "note: There is no clear pattern in the ACF and PACF except the negative lag-1 autocorrelation in the ACF."
   ]
  },
  {
   "cell_type": "markdown",
   "id": "f09252d6",
   "metadata": {},
   "source": [
    "#### 2: C Which ARMA Model is Best?\n",
    "\n",
    "Recall from Chapter 3 that the Akaike Information Criterion (AIC) can be used to compare models with different numbers of parameters. It measures goodness-of-fit, but places a penalty on models with more parameters to discourage overfitting. Lower AIC scores are better.\n",
    "\n",
    "Fit the temperature data to an AR(1), AR(2), and ARMA(1,1) and see which model is the best fit, using the AIC criterion. The AR(2) and ARMA(1,1) models have one more parameter than the AR(1) has.\n",
    "\n",
    "The annual change in temperature is in a DataFrame chg_temp."
   ]
  },
  {
   "cell_type": "code",
   "execution_count": 61,
   "id": "bf8d15a2",
   "metadata": {},
   "outputs": [
    {
     "name": "stdout",
     "output_type": "stream",
     "text": [
      "The AIC for an AR(1) is:  510.5346898733107\n",
      "The AIC for an AR(2) is:  501.92741234091386\n",
      "The AIC for an MA(1) is:  469.3909780330102\n"
     ]
    }
   ],
   "source": [
    "# For each ARMA model, create an instance of the ARMA class, passing the data and the order=(p,q). \n",
    "    #p is the autoregressive order; q is the moving average order.\n",
    "# Fit the model using the method .fit().\n",
    "mod_ar1 = ARIMA(chg_temp, order=(1, 0, 0))\n",
    "res_ar1 = mod_ar1.fit()\n",
    "print(\"The AIC for an AR(1) is: \", res_ar1.aic)\n",
    "\n",
    "# Fit the data to an AR(2) model and print AIC\n",
    "mod_ar2 = ARIMA(chg_temp, order=(2, 0, 0))\n",
    "res_ar2 = mod_ar2.fit()\n",
    "print(\"The AIC for an AR(2) is: \", res_ar2.aic)\n",
    "\n",
    "# Print the AIC value, found in the .aic element of the results.  \n",
    "mod_ma1 = ARIMA(chg_temp, order=(0, 0, 1))\n",
    "res_ma1 = mod_ma1.fit()\n",
    "print(\"The AIC for an MA(1) is: \", res_ma1.aic)\n",
    "        "
   ]
  },
  {
   "cell_type": "markdown",
   "id": "8ccc19a3",
   "metadata": {},
   "source": [
    "note: The ARIMA(1,1) MA(1) ,has the lowest AIC values among the three models."
   ]
  },
  {
   "cell_type": "markdown",
   "id": "694cd7bf",
   "metadata": {},
   "source": [
    "#### 3: D-  Don't Throw Out That Winter Coat Yet\n",
    "Finally, you will forecast the temperature over the next 30 years using an ARMA(1,1) model, including confidence bands around that estimate. Keep in mind that the estimate of the drift will have a much bigger impact on long range forecasts than the ARMA parameters.\n",
    "\n",
    "Earlier, you determined that the temperature data follows a random walk and you looked at first differencing the data. In this exercise, you will use the ARIMA module on the temperature data (before differencing), which is identical to using the ARMA module on changes in temperature, followed by taking cumulative sums of these changes to get the temperature forecast.\n",
    "\n",
    "The data is preloaded in a DataFrame called temp_NY."
   ]
  },
  {
   "cell_type": "code",
   "execution_count": 64,
   "id": "a0df41a7",
   "metadata": {},
   "outputs": [],
   "source": [
    "# Create an instance of the ARIMA class called mod for an integrated ARMA(1,1) model\n",
    "# The d in order(p,d,q) is one, since we first differenced once\n",
    "mod = ARIMA(chg_temp, order=(1, 1, 1))\n",
    "# Fit mod using the .fit() method and call the results res\n",
    "res = mod.fit()\n",
    "\n",
    "# Forecast the series using the plot_predict() method on res\n",
    "# Choose the start date as 1872-01-01 and the end date as 2046-01-01\n"
   ]
  },
  {
   "cell_type": "markdown",
   "id": "da1b3edb",
   "metadata": {},
   "source": [
    "![](img17.png)"
   ]
  },
  {
   "cell_type": "markdown",
   "id": "90c2b907",
   "metadata": {},
   "source": [
    " note : According to the model, the temperature is expected to be about 0.6 degrees higher in 30 years (almost entirely due to the trend), but the 95% confidence interval around that is over 5 degrees."
   ]
  }
 ],
 "metadata": {
  "kernelspec": {
   "display_name": "Python 3 (ipykernel)",
   "language": "python",
   "name": "python3"
  },
  "language_info": {
   "codemirror_mode": {
    "name": "ipython",
    "version": 3
   },
   "file_extension": ".py",
   "mimetype": "text/x-python",
   "name": "python",
   "nbconvert_exporter": "python",
   "pygments_lexer": "ipython3",
   "version": "3.8.8"
  }
 },
 "nbformat": 4,
 "nbformat_minor": 5
}
